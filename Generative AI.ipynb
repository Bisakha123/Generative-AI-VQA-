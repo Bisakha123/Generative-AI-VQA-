{
 "cells": [
  {
   "cell_type": "code",
   "execution_count": 2,
   "id": "34450df4",
   "metadata": {},
   "outputs": [
    {
     "name": "stdout",
     "output_type": "stream",
     "text": [
      "Requirement already satisfied: gradio in c:\\users\\kiit\\anaconda3\\lib\\site-packages (3.43.1)\n",
      "Requirement already satisfied: jinja2<4.0 in c:\\users\\kiit\\anaconda3\\lib\\site-packages (from gradio) (2.11.3)\n",
      "Requirement already satisfied: pydantic!=1.8,!=1.8.1,!=2.0.0,!=2.0.1,<3.0.0,>=1.7.4 in c:\\users\\kiit\\anaconda3\\lib\\site-packages (from gradio) (2.6.4)\n",
      "Requirement already satisfied: fastapi in c:\\users\\kiit\\anaconda3\\lib\\site-packages (from gradio) (0.110.0)\n",
      "Requirement already satisfied: markupsafe~=2.0 in c:\\users\\kiit\\anaconda3\\lib\\site-packages (from gradio) (2.0.1)\n",
      "Requirement already satisfied: semantic-version~=2.0 in c:\\users\\kiit\\anaconda3\\lib\\site-packages (from gradio) (2.10.0)\n",
      "Requirement already satisfied: python-multipart in c:\\users\\kiit\\anaconda3\\lib\\site-packages (from gradio) (0.0.9)\n",
      "Requirement already satisfied: numpy~=1.0 in c:\\users\\kiit\\anaconda3\\lib\\site-packages (from gradio) (1.21.5)\n",
      "Requirement already satisfied: ffmpy in c:\\users\\kiit\\anaconda3\\lib\\site-packages (from gradio) (0.3.2)\n",
      "Requirement already satisfied: huggingface-hub>=0.14.0 in c:\\users\\kiit\\anaconda3\\lib\\site-packages (from gradio) (0.21.4)\n",
      "Requirement already satisfied: pyyaml<7.0,>=5.0 in c:\\users\\kiit\\anaconda3\\lib\\site-packages (from gradio) (6.0)\n",
      "Requirement already satisfied: pandas<3.0,>=1.0 in c:\\users\\kiit\\anaconda3\\lib\\site-packages (from gradio) (1.4.2)\n",
      "Requirement already satisfied: pydub in c:\\users\\kiit\\anaconda3\\lib\\site-packages (from gradio) (0.25.1)\n",
      "Requirement already satisfied: gradio-client==0.5.0 in c:\\users\\kiit\\anaconda3\\lib\\site-packages (from gradio) (0.5.0)\n",
      "Requirement already satisfied: aiofiles<24.0,>=22.0 in c:\\users\\kiit\\anaconda3\\lib\\site-packages (from gradio) (23.2.1)\n",
      "Requirement already satisfied: importlib-resources<7.0,>=1.3 in c:\\users\\kiit\\anaconda3\\lib\\site-packages (from gradio) (6.3.2)\n",
      "Requirement already satisfied: requests~=2.0 in c:\\users\\kiit\\anaconda3\\lib\\site-packages (from gradio) (2.27.1)\n",
      "Requirement already satisfied: uvicorn>=0.14.0 in c:\\users\\kiit\\anaconda3\\lib\\site-packages (from gradio) (0.29.0)\n",
      "Requirement already satisfied: pillow<11.0,>=8.0 in c:\\users\\kiit\\anaconda3\\lib\\site-packages (from gradio) (9.0.1)\n",
      "Requirement already satisfied: matplotlib~=3.0 in c:\\users\\kiit\\anaconda3\\lib\\site-packages (from gradio) (3.5.1)\n",
      "Requirement already satisfied: httpx in c:\\users\\kiit\\anaconda3\\lib\\site-packages (from gradio) (0.27.0)\n",
      "Requirement already satisfied: typing-extensions~=4.0 in c:\\users\\kiit\\anaconda3\\lib\\site-packages (from gradio) (4.10.0)\n",
      "Requirement already satisfied: websockets<12.0,>=10.0 in c:\\users\\kiit\\anaconda3\\lib\\site-packages (from gradio) (11.0.3)\n",
      "Requirement already satisfied: altair<6.0,>=4.2.0 in c:\\users\\kiit\\anaconda3\\lib\\site-packages (from gradio) (5.2.0)\n",
      "Requirement already satisfied: packaging in c:\\users\\kiit\\anaconda3\\lib\\site-packages (from gradio) (21.3)\n",
      "Requirement already satisfied: orjson~=3.0 in c:\\users\\kiit\\anaconda3\\lib\\site-packages (from gradio) (3.9.15)\n",
      "Requirement already satisfied: fsspec in c:\\users\\kiit\\anaconda3\\lib\\site-packages (from gradio-client==0.5.0->gradio) (2024.3.1)\n",
      "Requirement already satisfied: toolz in c:\\users\\kiit\\anaconda3\\lib\\site-packages (from altair<6.0,>=4.2.0->gradio) (0.11.2)\n",
      "Requirement already satisfied: jsonschema>=3.0 in c:\\users\\kiit\\anaconda3\\lib\\site-packages (from altair<6.0,>=4.2.0->gradio) (4.4.0)\n",
      "Requirement already satisfied: filelock in c:\\users\\kiit\\anaconda3\\lib\\site-packages (from huggingface-hub>=0.14.0->gradio) (3.6.0)\n",
      "Requirement already satisfied: tqdm>=4.42.1 in c:\\users\\kiit\\anaconda3\\lib\\site-packages (from huggingface-hub>=0.14.0->gradio) (4.64.0)\n",
      "Requirement already satisfied: zipp>=3.1.0 in c:\\users\\kiit\\anaconda3\\lib\\site-packages (from importlib-resources<7.0,>=1.3->gradio) (3.7.0)\n",
      "Requirement already satisfied: pyrsistent!=0.17.0,!=0.17.1,!=0.17.2,>=0.14.0 in c:\\users\\kiit\\anaconda3\\lib\\site-packages (from jsonschema>=3.0->altair<6.0,>=4.2.0->gradio) (0.18.0)\n",
      "Requirement already satisfied: attrs>=17.4.0 in c:\\users\\kiit\\anaconda3\\lib\\site-packages (from jsonschema>=3.0->altair<6.0,>=4.2.0->gradio) (21.4.0)\n",
      "Requirement already satisfied: fonttools>=4.22.0 in c:\\users\\kiit\\anaconda3\\lib\\site-packages (from matplotlib~=3.0->gradio) (4.25.0)\n",
      "Requirement already satisfied: pyparsing>=2.2.1 in c:\\users\\kiit\\anaconda3\\lib\\site-packages (from matplotlib~=3.0->gradio) (3.0.4)\n",
      "Requirement already satisfied: cycler>=0.10 in c:\\users\\kiit\\anaconda3\\lib\\site-packages (from matplotlib~=3.0->gradio) (0.11.0)\n",
      "Requirement already satisfied: kiwisolver>=1.0.1 in c:\\users\\kiit\\anaconda3\\lib\\site-packages (from matplotlib~=3.0->gradio) (1.3.2)\n",
      "Requirement already satisfied: python-dateutil>=2.7 in c:\\users\\kiit\\anaconda3\\lib\\site-packages (from matplotlib~=3.0->gradio) (2.8.2)\n",
      "Requirement already satisfied: pytz>=2020.1 in c:\\users\\kiit\\anaconda3\\lib\\site-packages (from pandas<3.0,>=1.0->gradio) (2021.3)\n",
      "Requirement already satisfied: annotated-types>=0.4.0 in c:\\users\\kiit\\anaconda3\\lib\\site-packages (from pydantic!=1.8,!=1.8.1,!=2.0.0,!=2.0.1,<3.0.0,>=1.7.4->gradio) (0.6.0)\n",
      "Requirement already satisfied: pydantic-core==2.16.3 in c:\\users\\kiit\\anaconda3\\lib\\site-packages (from pydantic!=1.8,!=1.8.1,!=2.0.0,!=2.0.1,<3.0.0,>=1.7.4->gradio) (2.16.3)\n",
      "Requirement already satisfied: six>=1.5 in c:\\users\\kiit\\anaconda3\\lib\\site-packages (from python-dateutil>=2.7->matplotlib~=3.0->gradio) (1.16.0)\n",
      "Requirement already satisfied: idna<4,>=2.5 in c:\\users\\kiit\\anaconda3\\lib\\site-packages (from requests~=2.0->gradio) (3.3)\n",
      "Requirement already satisfied: charset-normalizer~=2.0.0 in c:\\users\\kiit\\anaconda3\\lib\\site-packages (from requests~=2.0->gradio) (2.0.4)\n",
      "Requirement already satisfied: certifi>=2017.4.17 in c:\\users\\kiit\\anaconda3\\lib\\site-packages (from requests~=2.0->gradio) (2021.10.8)\n",
      "Requirement already satisfied: urllib3<1.27,>=1.21.1 in c:\\users\\kiit\\anaconda3\\lib\\site-packages (from requests~=2.0->gradio) (1.26.9)\n",
      "Requirement already satisfied: colorama in c:\\users\\kiit\\anaconda3\\lib\\site-packages (from tqdm>=4.42.1->huggingface-hub>=0.14.0->gradio) (0.4.4)\n",
      "Requirement already satisfied: click>=7.0 in c:\\users\\kiit\\anaconda3\\lib\\site-packages (from uvicorn>=0.14.0->gradio) (8.0.4)\n",
      "Requirement already satisfied: h11>=0.8 in c:\\users\\kiit\\anaconda3\\lib\\site-packages (from uvicorn>=0.14.0->gradio) (0.14.0)\n",
      "Requirement already satisfied: starlette<0.37.0,>=0.36.3 in c:\\users\\kiit\\anaconda3\\lib\\site-packages (from fastapi->gradio) (0.36.3)\n",
      "Requirement already satisfied: anyio<5,>=3.4.0 in c:\\users\\kiit\\anaconda3\\lib\\site-packages (from starlette<0.37.0,>=0.36.3->fastapi->gradio) (3.5.0)\n",
      "Requirement already satisfied: sniffio>=1.1 in c:\\users\\kiit\\anaconda3\\lib\\site-packages (from anyio<5,>=3.4.0->starlette<0.37.0,>=0.36.3->fastapi->gradio) (1.2.0)\n",
      "Requirement already satisfied: httpcore==1.* in c:\\users\\kiit\\anaconda3\\lib\\site-packages (from httpx->gradio) (1.0.4)\n"
     ]
    }
   ],
   "source": [
    "!pip install gradio"
   ]
  },
  {
   "cell_type": "code",
   "execution_count": 3,
   "id": "dc0c278c",
   "metadata": {},
   "outputs": [
    {
     "name": "stdout",
     "output_type": "stream",
     "text": [
      "Collecting gradio==3.50\n",
      "  Using cached gradio-3.50.0-py3-none-any.whl (20.3 MB)\n",
      "Requirement already satisfied: markupsafe~=2.0 in c:\\users\\kiit\\anaconda3\\lib\\site-packages (from gradio==3.50) (2.0.1)\n",
      "Requirement already satisfied: pandas<3.0,>=1.0 in c:\\users\\kiit\\anaconda3\\lib\\site-packages (from gradio==3.50) (1.4.2)\n",
      "Requirement already satisfied: uvicorn>=0.14.0 in c:\\users\\kiit\\anaconda3\\lib\\site-packages (from gradio==3.50) (0.29.0)\n",
      "Requirement already satisfied: numpy~=1.0 in c:\\users\\kiit\\anaconda3\\lib\\site-packages (from gradio==3.50) (1.21.5)\n",
      "Requirement already satisfied: pydantic!=1.8,!=1.8.1,!=2.0.0,!=2.0.1,<3.0.0,>=1.7.4 in c:\\users\\kiit\\anaconda3\\lib\\site-packages (from gradio==3.50) (2.6.4)\n",
      "Requirement already satisfied: httpx in c:\\users\\kiit\\anaconda3\\lib\\site-packages (from gradio==3.50) (0.27.0)\n",
      "Requirement already satisfied: pydub in c:\\users\\kiit\\anaconda3\\lib\\site-packages (from gradio==3.50) (0.25.1)\n",
      "Requirement already satisfied: pyyaml<7.0,>=5.0 in c:\\users\\kiit\\anaconda3\\lib\\site-packages (from gradio==3.50) (6.0)\n",
      "Requirement already satisfied: importlib-resources<7.0,>=1.3 in c:\\users\\kiit\\anaconda3\\lib\\site-packages (from gradio==3.50) (6.3.2)\n",
      "Requirement already satisfied: packaging in c:\\users\\kiit\\anaconda3\\lib\\site-packages (from gradio==3.50) (21.3)\n",
      "Requirement already satisfied: altair<6.0,>=4.2.0 in c:\\users\\kiit\\anaconda3\\lib\\site-packages (from gradio==3.50) (5.2.0)\n",
      "Requirement already satisfied: typing-extensions~=4.0 in c:\\users\\kiit\\anaconda3\\lib\\site-packages (from gradio==3.50) (4.10.0)\n",
      "Requirement already satisfied: ffmpy in c:\\users\\kiit\\anaconda3\\lib\\site-packages (from gradio==3.50) (0.3.2)\n",
      "Requirement already satisfied: fastapi in c:\\users\\kiit\\anaconda3\\lib\\site-packages (from gradio==3.50) (0.110.0)\n",
      "Requirement already satisfied: requests~=2.0 in c:\\users\\kiit\\anaconda3\\lib\\site-packages (from gradio==3.50) (2.27.1)\n",
      "Requirement already satisfied: semantic-version~=2.0 in c:\\users\\kiit\\anaconda3\\lib\\site-packages (from gradio==3.50) (2.10.0)\n",
      "Requirement already satisfied: jinja2<4.0 in c:\\users\\kiit\\anaconda3\\lib\\site-packages (from gradio==3.50) (2.11.3)\n",
      "Requirement already satisfied: matplotlib~=3.0 in c:\\users\\kiit\\anaconda3\\lib\\site-packages (from gradio==3.50) (3.5.1)\n",
      "Requirement already satisfied: aiofiles<24.0,>=22.0 in c:\\users\\kiit\\anaconda3\\lib\\site-packages (from gradio==3.50) (23.2.1)\n",
      "Requirement already satisfied: orjson~=3.0 in c:\\users\\kiit\\anaconda3\\lib\\site-packages (from gradio==3.50) (3.9.15)\n",
      "Requirement already satisfied: websockets<12.0,>=10.0 in c:\\users\\kiit\\anaconda3\\lib\\site-packages (from gradio==3.50) (11.0.3)\n",
      "Requirement already satisfied: pillow<11.0,>=8.0 in c:\\users\\kiit\\anaconda3\\lib\\site-packages (from gradio==3.50) (9.0.1)\n",
      "Requirement already satisfied: python-multipart in c:\\users\\kiit\\anaconda3\\lib\\site-packages (from gradio==3.50) (0.0.9)\n",
      "Requirement already satisfied: huggingface-hub>=0.14.0 in c:\\users\\kiit\\anaconda3\\lib\\site-packages (from gradio==3.50) (0.21.4)\n",
      "Collecting gradio-client==0.6.1\n",
      "  Using cached gradio_client-0.6.1-py3-none-any.whl (299 kB)\n",
      "Requirement already satisfied: fsspec in c:\\users\\kiit\\anaconda3\\lib\\site-packages (from gradio-client==0.6.1->gradio==3.50) (2024.3.1)\n",
      "Requirement already satisfied: toolz in c:\\users\\kiit\\anaconda3\\lib\\site-packages (from altair<6.0,>=4.2.0->gradio==3.50) (0.11.2)\n",
      "Requirement already satisfied: jsonschema>=3.0 in c:\\users\\kiit\\anaconda3\\lib\\site-packages (from altair<6.0,>=4.2.0->gradio==3.50) (4.4.0)\n",
      "Requirement already satisfied: tqdm>=4.42.1 in c:\\users\\kiit\\anaconda3\\lib\\site-packages (from huggingface-hub>=0.14.0->gradio==3.50) (4.64.0)\n",
      "Requirement already satisfied: filelock in c:\\users\\kiit\\anaconda3\\lib\\site-packages (from huggingface-hub>=0.14.0->gradio==3.50) (3.6.0)\n",
      "Requirement already satisfied: zipp>=3.1.0 in c:\\users\\kiit\\anaconda3\\lib\\site-packages (from importlib-resources<7.0,>=1.3->gradio==3.50) (3.7.0)\n",
      "Requirement already satisfied: attrs>=17.4.0 in c:\\users\\kiit\\anaconda3\\lib\\site-packages (from jsonschema>=3.0->altair<6.0,>=4.2.0->gradio==3.50) (21.4.0)\n",
      "Requirement already satisfied: pyrsistent!=0.17.0,!=0.17.1,!=0.17.2,>=0.14.0 in c:\\users\\kiit\\anaconda3\\lib\\site-packages (from jsonschema>=3.0->altair<6.0,>=4.2.0->gradio==3.50) (0.18.0)\n",
      "Requirement already satisfied: cycler>=0.10 in c:\\users\\kiit\\anaconda3\\lib\\site-packages (from matplotlib~=3.0->gradio==3.50) (0.11.0)\n",
      "Requirement already satisfied: kiwisolver>=1.0.1 in c:\\users\\kiit\\anaconda3\\lib\\site-packages (from matplotlib~=3.0->gradio==3.50) (1.3.2)\n",
      "Requirement already satisfied: pyparsing>=2.2.1 in c:\\users\\kiit\\anaconda3\\lib\\site-packages (from matplotlib~=3.0->gradio==3.50) (3.0.4)\n",
      "Requirement already satisfied: python-dateutil>=2.7 in c:\\users\\kiit\\anaconda3\\lib\\site-packages (from matplotlib~=3.0->gradio==3.50) (2.8.2)\n",
      "Requirement already satisfied: fonttools>=4.22.0 in c:\\users\\kiit\\anaconda3\\lib\\site-packages (from matplotlib~=3.0->gradio==3.50) (4.25.0)\n",
      "Requirement already satisfied: pytz>=2020.1 in c:\\users\\kiit\\anaconda3\\lib\\site-packages (from pandas<3.0,>=1.0->gradio==3.50) (2021.3)\n",
      "Requirement already satisfied: annotated-types>=0.4.0 in c:\\users\\kiit\\anaconda3\\lib\\site-packages (from pydantic!=1.8,!=1.8.1,!=2.0.0,!=2.0.1,<3.0.0,>=1.7.4->gradio==3.50) (0.6.0)\n",
      "Requirement already satisfied: pydantic-core==2.16.3 in c:\\users\\kiit\\anaconda3\\lib\\site-packages (from pydantic!=1.8,!=1.8.1,!=2.0.0,!=2.0.1,<3.0.0,>=1.7.4->gradio==3.50) (2.16.3)\n",
      "Requirement already satisfied: six>=1.5 in c:\\users\\kiit\\anaconda3\\lib\\site-packages (from python-dateutil>=2.7->matplotlib~=3.0->gradio==3.50) (1.16.0)\n",
      "Requirement already satisfied: idna<4,>=2.5 in c:\\users\\kiit\\anaconda3\\lib\\site-packages (from requests~=2.0->gradio==3.50) (3.3)\n",
      "Requirement already satisfied: urllib3<1.27,>=1.21.1 in c:\\users\\kiit\\anaconda3\\lib\\site-packages (from requests~=2.0->gradio==3.50) (1.26.9)\n",
      "Requirement already satisfied: certifi>=2017.4.17 in c:\\users\\kiit\\anaconda3\\lib\\site-packages (from requests~=2.0->gradio==3.50) (2021.10.8)\n",
      "Requirement already satisfied: charset-normalizer~=2.0.0 in c:\\users\\kiit\\anaconda3\\lib\\site-packages (from requests~=2.0->gradio==3.50) (2.0.4)\n",
      "Requirement already satisfied: colorama in c:\\users\\kiit\\anaconda3\\lib\\site-packages (from tqdm>=4.42.1->huggingface-hub>=0.14.0->gradio==3.50) (0.4.4)\n",
      "Requirement already satisfied: click>=7.0 in c:\\users\\kiit\\anaconda3\\lib\\site-packages (from uvicorn>=0.14.0->gradio==3.50) (8.0.4)\n",
      "Requirement already satisfied: h11>=0.8 in c:\\users\\kiit\\anaconda3\\lib\\site-packages (from uvicorn>=0.14.0->gradio==3.50) (0.14.0)\n",
      "Requirement already satisfied: starlette<0.37.0,>=0.36.3 in c:\\users\\kiit\\anaconda3\\lib\\site-packages (from fastapi->gradio==3.50) (0.36.3)\n",
      "Requirement already satisfied: anyio<5,>=3.4.0 in c:\\users\\kiit\\anaconda3\\lib\\site-packages (from starlette<0.37.0,>=0.36.3->fastapi->gradio==3.50) (3.5.0)\n",
      "Requirement already satisfied: sniffio>=1.1 in c:\\users\\kiit\\anaconda3\\lib\\site-packages (from anyio<5,>=3.4.0->starlette<0.37.0,>=0.36.3->fastapi->gradio==3.50) (1.2.0)\n",
      "Requirement already satisfied: httpcore==1.* in c:\\users\\kiit\\anaconda3\\lib\\site-packages (from httpx->gradio==3.50) (1.0.4)\n",
      "Installing collected packages: gradio-client, gradio\n",
      "  Attempting uninstall: gradio-client\n",
      "    Found existing installation: gradio-client 0.5.0\n",
      "    Uninstalling gradio-client-0.5.0:\n",
      "      Successfully uninstalled gradio-client-0.5.0\n",
      "  Attempting uninstall: gradio\n",
      "    Found existing installation: gradio 3.43.1\n",
      "    Uninstalling gradio-3.43.1:\n",
      "      Successfully uninstalled gradio-3.43.1\n",
      "Successfully installed gradio-3.50.0 gradio-client-0.6.1\n"
     ]
    }
   ],
   "source": [
    "!pip install gradio==3.50"
   ]
  },
  {
   "cell_type": "code",
   "execution_count": 4,
   "id": "50a4b9f8",
   "metadata": {},
   "outputs": [
    {
     "name": "stdout",
     "output_type": "stream",
     "text": [
      "Collecting gradio==3.43.1\n",
      "  Using cached gradio-3.43.1-py3-none-any.whl (20.1 MB)\n",
      "Requirement already satisfied: ffmpy in c:\\users\\kiit\\anaconda3\\lib\\site-packages (from gradio==3.43.1) (0.3.2)\n",
      "Requirement already satisfied: python-multipart in c:\\users\\kiit\\anaconda3\\lib\\site-packages (from gradio==3.43.1) (0.0.9)\n",
      "Requirement already satisfied: packaging in c:\\users\\kiit\\anaconda3\\lib\\site-packages (from gradio==3.43.1) (21.3)\n",
      "Requirement already satisfied: jinja2<4.0 in c:\\users\\kiit\\anaconda3\\lib\\site-packages (from gradio==3.43.1) (2.11.3)\n",
      "Requirement already satisfied: requests~=2.0 in c:\\users\\kiit\\anaconda3\\lib\\site-packages (from gradio==3.43.1) (2.27.1)\n",
      "Requirement already satisfied: pyyaml<7.0,>=5.0 in c:\\users\\kiit\\anaconda3\\lib\\site-packages (from gradio==3.43.1) (6.0)\n",
      "Requirement already satisfied: websockets<12.0,>=10.0 in c:\\users\\kiit\\anaconda3\\lib\\site-packages (from gradio==3.43.1) (11.0.3)\n",
      "Requirement already satisfied: aiofiles<24.0,>=22.0 in c:\\users\\kiit\\anaconda3\\lib\\site-packages (from gradio==3.43.1) (23.2.1)\n",
      "Requirement already satisfied: markupsafe~=2.0 in c:\\users\\kiit\\anaconda3\\lib\\site-packages (from gradio==3.43.1) (2.0.1)\n",
      "Requirement already satisfied: orjson~=3.0 in c:\\users\\kiit\\anaconda3\\lib\\site-packages (from gradio==3.43.1) (3.9.15)\n",
      "Requirement already satisfied: pydantic!=1.8,!=1.8.1,!=2.0.0,!=2.0.1,<3.0.0,>=1.7.4 in c:\\users\\kiit\\anaconda3\\lib\\site-packages (from gradio==3.43.1) (2.6.4)\n",
      "Requirement already satisfied: typing-extensions~=4.0 in c:\\users\\kiit\\anaconda3\\lib\\site-packages (from gradio==3.43.1) (4.10.0)\n",
      "Requirement already satisfied: importlib-resources<7.0,>=1.3 in c:\\users\\kiit\\anaconda3\\lib\\site-packages (from gradio==3.43.1) (6.3.2)\n",
      "Requirement already satisfied: matplotlib~=3.0 in c:\\users\\kiit\\anaconda3\\lib\\site-packages (from gradio==3.43.1) (3.5.1)\n",
      "Requirement already satisfied: pillow<11.0,>=8.0 in c:\\users\\kiit\\anaconda3\\lib\\site-packages (from gradio==3.43.1) (9.0.1)\n",
      "Requirement already satisfied: semantic-version~=2.0 in c:\\users\\kiit\\anaconda3\\lib\\site-packages (from gradio==3.43.1) (2.10.0)\n",
      "Requirement already satisfied: altair<6.0,>=4.2.0 in c:\\users\\kiit\\anaconda3\\lib\\site-packages (from gradio==3.43.1) (5.2.0)\n",
      "Requirement already satisfied: httpx in c:\\users\\kiit\\anaconda3\\lib\\site-packages (from gradio==3.43.1) (0.27.0)\n",
      "Requirement already satisfied: numpy~=1.0 in c:\\users\\kiit\\anaconda3\\lib\\site-packages (from gradio==3.43.1) (1.21.5)\n",
      "Collecting gradio-client==0.5.0\n",
      "  Using cached gradio_client-0.5.0-py3-none-any.whl (298 kB)\n",
      "Requirement already satisfied: pandas<3.0,>=1.0 in c:\\users\\kiit\\anaconda3\\lib\\site-packages (from gradio==3.43.1) (1.4.2)\n",
      "Requirement already satisfied: pydub in c:\\users\\kiit\\anaconda3\\lib\\site-packages (from gradio==3.43.1) (0.25.1)\n",
      "Requirement already satisfied: huggingface-hub>=0.14.0 in c:\\users\\kiit\\anaconda3\\lib\\site-packages (from gradio==3.43.1) (0.21.4)\n",
      "Requirement already satisfied: uvicorn>=0.14.0 in c:\\users\\kiit\\anaconda3\\lib\\site-packages (from gradio==3.43.1) (0.29.0)\n",
      "Requirement already satisfied: fastapi in c:\\users\\kiit\\anaconda3\\lib\\site-packages (from gradio==3.43.1) (0.110.0)\n",
      "Requirement already satisfied: fsspec in c:\\users\\kiit\\anaconda3\\lib\\site-packages (from gradio-client==0.5.0->gradio==3.43.1) (2024.3.1)\n",
      "Requirement already satisfied: toolz in c:\\users\\kiit\\anaconda3\\lib\\site-packages (from altair<6.0,>=4.2.0->gradio==3.43.1) (0.11.2)\n",
      "Requirement already satisfied: jsonschema>=3.0 in c:\\users\\kiit\\anaconda3\\lib\\site-packages (from altair<6.0,>=4.2.0->gradio==3.43.1) (4.4.0)\n",
      "Requirement already satisfied: filelock in c:\\users\\kiit\\anaconda3\\lib\\site-packages (from huggingface-hub>=0.14.0->gradio==3.43.1) (3.6.0)\n",
      "Requirement already satisfied: tqdm>=4.42.1 in c:\\users\\kiit\\anaconda3\\lib\\site-packages (from huggingface-hub>=0.14.0->gradio==3.43.1) (4.64.0)\n",
      "Requirement already satisfied: zipp>=3.1.0 in c:\\users\\kiit\\anaconda3\\lib\\site-packages (from importlib-resources<7.0,>=1.3->gradio==3.43.1) (3.7.0)\n",
      "Requirement already satisfied: attrs>=17.4.0 in c:\\users\\kiit\\anaconda3\\lib\\site-packages (from jsonschema>=3.0->altair<6.0,>=4.2.0->gradio==3.43.1) (21.4.0)\n",
      "Requirement already satisfied: pyrsistent!=0.17.0,!=0.17.1,!=0.17.2,>=0.14.0 in c:\\users\\kiit\\anaconda3\\lib\\site-packages (from jsonschema>=3.0->altair<6.0,>=4.2.0->gradio==3.43.1) (0.18.0)\n",
      "Requirement already satisfied: pyparsing>=2.2.1 in c:\\users\\kiit\\anaconda3\\lib\\site-packages (from matplotlib~=3.0->gradio==3.43.1) (3.0.4)\n",
      "Requirement already satisfied: fonttools>=4.22.0 in c:\\users\\kiit\\anaconda3\\lib\\site-packages (from matplotlib~=3.0->gradio==3.43.1) (4.25.0)\n",
      "Requirement already satisfied: python-dateutil>=2.7 in c:\\users\\kiit\\anaconda3\\lib\\site-packages (from matplotlib~=3.0->gradio==3.43.1) (2.8.2)\n",
      "Requirement already satisfied: kiwisolver>=1.0.1 in c:\\users\\kiit\\anaconda3\\lib\\site-packages (from matplotlib~=3.0->gradio==3.43.1) (1.3.2)\n",
      "Requirement already satisfied: cycler>=0.10 in c:\\users\\kiit\\anaconda3\\lib\\site-packages (from matplotlib~=3.0->gradio==3.43.1) (0.11.0)\n",
      "Requirement already satisfied: pytz>=2020.1 in c:\\users\\kiit\\anaconda3\\lib\\site-packages (from pandas<3.0,>=1.0->gradio==3.43.1) (2021.3)\n",
      "Requirement already satisfied: pydantic-core==2.16.3 in c:\\users\\kiit\\anaconda3\\lib\\site-packages (from pydantic!=1.8,!=1.8.1,!=2.0.0,!=2.0.1,<3.0.0,>=1.7.4->gradio==3.43.1) (2.16.3)\n",
      "Requirement already satisfied: annotated-types>=0.4.0 in c:\\users\\kiit\\anaconda3\\lib\\site-packages (from pydantic!=1.8,!=1.8.1,!=2.0.0,!=2.0.1,<3.0.0,>=1.7.4->gradio==3.43.1) (0.6.0)\n",
      "Requirement already satisfied: six>=1.5 in c:\\users\\kiit\\anaconda3\\lib\\site-packages (from python-dateutil>=2.7->matplotlib~=3.0->gradio==3.43.1) (1.16.0)\n",
      "Requirement already satisfied: idna<4,>=2.5 in c:\\users\\kiit\\anaconda3\\lib\\site-packages (from requests~=2.0->gradio==3.43.1) (3.3)\n",
      "Requirement already satisfied: certifi>=2017.4.17 in c:\\users\\kiit\\anaconda3\\lib\\site-packages (from requests~=2.0->gradio==3.43.1) (2021.10.8)\n",
      "Requirement already satisfied: charset-normalizer~=2.0.0 in c:\\users\\kiit\\anaconda3\\lib\\site-packages (from requests~=2.0->gradio==3.43.1) (2.0.4)\n",
      "Requirement already satisfied: urllib3<1.27,>=1.21.1 in c:\\users\\kiit\\anaconda3\\lib\\site-packages (from requests~=2.0->gradio==3.43.1) (1.26.9)\n",
      "Requirement already satisfied: colorama in c:\\users\\kiit\\anaconda3\\lib\\site-packages (from tqdm>=4.42.1->huggingface-hub>=0.14.0->gradio==3.43.1) (0.4.4)\n",
      "Requirement already satisfied: click>=7.0 in c:\\users\\kiit\\anaconda3\\lib\\site-packages (from uvicorn>=0.14.0->gradio==3.43.1) (8.0.4)\n",
      "Requirement already satisfied: h11>=0.8 in c:\\users\\kiit\\anaconda3\\lib\\site-packages (from uvicorn>=0.14.0->gradio==3.43.1) (0.14.0)\n",
      "Requirement already satisfied: starlette<0.37.0,>=0.36.3 in c:\\users\\kiit\\anaconda3\\lib\\site-packages (from fastapi->gradio==3.43.1) (0.36.3)\n",
      "Requirement already satisfied: anyio<5,>=3.4.0 in c:\\users\\kiit\\anaconda3\\lib\\site-packages (from starlette<0.37.0,>=0.36.3->fastapi->gradio==3.43.1) (3.5.0)\n",
      "Requirement already satisfied: sniffio>=1.1 in c:\\users\\kiit\\anaconda3\\lib\\site-packages (from anyio<5,>=3.4.0->starlette<0.37.0,>=0.36.3->fastapi->gradio==3.43.1) (1.2.0)\n",
      "Requirement already satisfied: httpcore==1.* in c:\\users\\kiit\\anaconda3\\lib\\site-packages (from httpx->gradio==3.43.1) (1.0.4)\n",
      "Installing collected packages: gradio-client, gradio\n",
      "  Attempting uninstall: gradio-client\n",
      "    Found existing installation: gradio-client 0.6.1\n",
      "    Uninstalling gradio-client-0.6.1:\n",
      "      Successfully uninstalled gradio-client-0.6.1\n",
      "  Attempting uninstall: gradio\n",
      "    Found existing installation: gradio 3.50.0\n",
      "    Uninstalling gradio-3.50.0:\n",
      "      Successfully uninstalled gradio-3.50.0\n",
      "Successfully installed gradio-3.43.1 gradio-client-0.5.0\n"
     ]
    }
   ],
   "source": [
    "!pip install gradio==3.43.1"
   ]
  },
  {
   "cell_type": "code",
   "execution_count": 5,
   "id": "bd5097d5",
   "metadata": {},
   "outputs": [],
   "source": [
    "from PIL import Image\n",
    "from transformers import BlipProcessor, BlipForConditionalGeneration, BlipForQuestionAnswering\n",
    "import gradio as gr\n",
    "import torch\n",
    "import warnings\n",
    "warnings.filterwarnings(\"ignore\")"
   ]
  },
  {
   "cell_type": "code",
   "execution_count": 6,
   "id": "850c21eb",
   "metadata": {},
   "outputs": [],
   "source": [
    "captioning_processor=BlipProcessor.from_pretrained(\"Salesforce/blip-image-captioning-base\")\n",
    "captioning_model=BlipForConditionalGeneration.from_pretrained(\"Salesforce/blip-image-captioning-base\")"
   ]
  },
  {
   "cell_type": "code",
   "execution_count": 7,
   "id": "dac21518",
   "metadata": {},
   "outputs": [],
   "source": [
    "def caption (image):\n",
    "    image.convert(\"RGB\")\n",
    "    inputs=captioning_processor(image, return_tensors=\"pt\")\n",
    "    out = captioning_model.generate (**inputs)\n",
    "    return captioning_processor.decode(out[0], skip_special_tokens=True)"
   ]
  },
  {
   "cell_type": "code",
   "execution_count": 8,
   "id": "8efd199b",
   "metadata": {},
   "outputs": [],
   "source": [
    "processor=BlipProcessor.from_pretrained (\"Salesforce/blip-vqa-base\") \n",
    "model=BlipForQuestionAnswering.from_pretrained (\"Salesforce/blip-vqa-base\")"
   ]
  },
  {
   "cell_type": "code",
   "execution_count": 9,
   "id": "2f451436",
   "metadata": {},
   "outputs": [],
   "source": [
    "def qna(image, question):\n",
    "    image.convert(\"RGB\")\n",
    "    inputs = processor(image, question, return_tensors=\"pt\")\n",
    "    out= model.generate(**inputs)\n",
    "    return processor.decode(out[0], skip_special_tokens=True)"
   ]
  },
  {
   "cell_type": "code",
   "execution_count": 10,
   "id": "d038ee6b",
   "metadata": {},
   "outputs": [],
   "source": [
    "title=\"Automated Image Captioning and Visual QnA Engine\""
   ]
  },
  {
   "cell_type": "code",
   "execution_count": 11,
   "id": "3af4bea0",
   "metadata": {},
   "outputs": [],
   "source": [
    "interface1 = gr.Interface(fn=caption,\n",
    "                           inputs=gr.components.Image(type=\"pil\"),\n",
    "                           outputs=gr.components.Textbox(label=\"Generated Caption by BLIP\"), \n",
    "                           description=\"BLIP Image Captioning\")"
   ]
  },
  {
   "cell_type": "code",
   "execution_count": 12,
   "id": "5c91fdbf",
   "metadata": {},
   "outputs": [],
   "source": [
    "interface2 = gr.Interface(fn=qna, \n",
    "                         inputs=[gr.components.Image (type=\"pil\"), gr.Textbox (label=\"Question\")],\n",
    "                         outputs=gr.components.Textbox (label=\"Answer generated by BLIP\"),\n",
    "                         description=\"BLIP Visual Question Answering of Images\")"
   ]
  },
  {
   "cell_type": "code",
   "execution_count": 13,
   "id": "60d3d907",
   "metadata": {
    "scrolled": true
   },
   "outputs": [
    {
     "name": "stdout",
     "output_type": "stream",
     "text": [
      "Running on local URL:  http://127.0.0.1:7860\n",
      "\n",
      "Could not create share link. Please check your internet connection or our status page: https://status.gradio.app.\n"
     ]
    },
    {
     "data": {
      "text/html": [
       "<div><iframe src=\"http://127.0.0.1:7860/\" width=\"100%\" height=\"500\" allow=\"autoplay; camera; microphone; clipboard-read; clipboard-write;\" frameborder=\"0\" allowfullscreen></iframe></div>"
      ],
      "text/plain": [
       "<IPython.core.display.HTML object>"
      ]
     },
     "metadata": {},
     "output_type": "display_data"
    },
    {
     "data": {
      "text/plain": []
     },
     "execution_count": 13,
     "metadata": {},
     "output_type": "execute_result"
    }
   ],
   "source": [
    "final_interface = gr.TabbedInterface ([interface1, interface2], [\"Captioning\", \"Visual QnA\"], title=title, theme=gr.themes.Default()) \n",
    "final_interface.launch (share=True)"
   ]
  },
  {
   "cell_type": "code",
   "execution_count": null,
   "id": "0db2e982",
   "metadata": {},
   "outputs": [],
   "source": []
  }
 ],
 "metadata": {
  "kernelspec": {
   "display_name": "Python 3 (ipykernel)",
   "language": "python",
   "name": "python3"
  },
  "language_info": {
   "codemirror_mode": {
    "name": "ipython",
    "version": 3
   },
   "file_extension": ".py",
   "mimetype": "text/x-python",
   "name": "python",
   "nbconvert_exporter": "python",
   "pygments_lexer": "ipython3",
   "version": "3.9.12"
  }
 },
 "nbformat": 4,
 "nbformat_minor": 5
}
